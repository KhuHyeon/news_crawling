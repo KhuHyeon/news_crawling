{
 "cells": [
  {
   "cell_type": "code",
   "execution_count": 2,
   "metadata": {},
   "outputs": [],
   "source": [
    "class News:\n",
    "    numCreatedNews = 0\n",
    "    def __init__(self, title, link, contents, agency, date, time):\n",
    "        self.title = title\n",
    "        self.link = link\n",
    "        self.contents = contents\n",
    "        self.agency = agency\n",
    "        self.date = date\n",
    "        self.time = time\n",
    "        News.numCreatedNews += 1\n",
    "\n",
    "    def print(self):\n",
    "        print(\"제목:\", self.title)\n",
    "        print(\"링크:\", self.link)\n",
    "        print(\"내용:\", self.contents)\n",
    "        print(\"언론사:\", self.agency)\n",
    "        print(\"날짜&시간:\", self.date, self.time)\n",
    "        print(\"=====================================================\")"
   ]
  }
 ],
 "metadata": {
  "kernelspec": {
   "display_name": "Python 3",
   "language": "python",
   "name": "python3"
  },
  "language_info": {
   "codemirror_mode": {
    "name": "ipython",
    "version": 3
   },
   "file_extension": ".py",
   "mimetype": "text/x-python",
   "name": "python",
   "nbconvert_exporter": "python",
   "pygments_lexer": "ipython3",
   "version": "3.7.6"
  }
 },
 "nbformat": 4,
 "nbformat_minor": 4
}
