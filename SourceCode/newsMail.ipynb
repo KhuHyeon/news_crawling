{
 "cells": [
  {
   "cell_type": "code",
   "execution_count": 1,
   "metadata": {},
   "outputs": [],
   "source": [
    "import smtplib\n",
    "from email.mime.text import MIMEText"
   ]
  },
  {
   "cell_type": "code",
   "execution_count": 2,
   "metadata": {},
   "outputs": [],
   "source": [
    "def sendNewsByGmail(news_items,subject=\"NoTitle\"):\n",
    "    # \"dlgustjd1687@naver.com\"\n",
    "    recipients = input(\"받을 사람의 이메일을 입력해주세요 : \")\n",
    "    # SMTP 서버 접속\n",
    "    smtp_server = smtplib.SMTP(host='smtp.gmail.com', port=587)\n",
    "    smtp_server.ehlo()\n",
    "    smtp_server.starttls()\n",
    "    # Gmail server login\n",
    "    my_addr = 'hong867103120@gmail.com'\n",
    "    my_pw = 'dovftlheucluhbdj'\n",
    "    smtp_server.login(user=my_addr, password=my_pw)\n",
    "    # 보낼 내용\n",
    "    body = \"\"\n",
    "    # 구분선\n",
    "    line = '\\n' + '-' * 160 + '\\n'\n",
    "    # 메일로 보낸 뉴스 갯수\n",
    "    index = 1\n",
    "    for news_item in news_items:\n",
    "        body += (\"{}번째 뉴스\\n제목 : {}\\n링크 : {}\\n내용 : {}\\n언론사 : {}\\n날짜&시간 : {}\"\n",
    "                 .format(index, news_item.title, news_item.link, news_item.contents, news_item.agency, news_item.date + \" \" + news_item.time + line))\n",
    "        index += 1\n",
    "    my_msg = MIMEText(body)\n",
    "    my_msg['Subject'] = subject\n",
    "    my_msg['To'] = recipients\n",
    "\n",
    "    # 이메일 발송\n",
    "    smtp_server.sendmail(from_addr=my_addr, to_addrs=recipients, msg=my_msg.as_string())\n",
    "    smtp_server.quit()\n",
    "    print(\"{}님에게 이메일을 발송하였습니다.\".format(recipients))"
   ]
  }
 ],
 "metadata": {
  "kernelspec": {
   "display_name": "Python 3",
   "language": "python",
   "name": "python3"
  },
  "language_info": {
   "codemirror_mode": {
    "name": "ipython",
    "version": 3
   },
   "file_extension": ".py",
   "mimetype": "text/x-python",
   "name": "python",
   "nbconvert_exporter": "python",
   "pygments_lexer": "ipython3",
   "version": "3.7.6"
  }
 },
 "nbformat": 4,
 "nbformat_minor": 4
}
